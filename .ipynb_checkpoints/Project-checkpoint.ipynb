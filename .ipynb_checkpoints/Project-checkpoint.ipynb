{
 "cells": [
  {
   "cell_type": "code",
   "execution_count": 12,
   "metadata": {},
   "outputs": [],
   "source": [
    "import numpy as np\n",
    "import matplotlib.pyplot as plt\n",
    "import matplotlib.image as mpimg\n",
    "import cv2\n",
    "import random\n",
    "import glob\n",
    "from skimage.feature import hog\n",
    "from sklearn.preprocessing import StandardScaler\n",
    "import time\n",
    "from sklearn.svm import LinearSVC\n",
    "from sklearn.preprocessing import StandardScaler\n",
    "from sklearn.model_selection import train_test_split"
   ]
  },
  {
   "cell_type": "code",
   "execution_count": 2,
   "metadata": {},
   "outputs": [
    {
     "name": "stdout",
     "output_type": "stream",
     "text": [
      "Number of images in vehicle dataset: 8792\n",
      "\n",
      "Number of images in Non-vehicle dataset: 8968\n"
     ]
    }
   ],
   "source": [
    "vehicle_image_location=glob.glob('/data/vehicles/*/*.png')\n",
    "non_vehicle_image_location=glob.glob('/data/non-vehicles/*/*.png')\n",
    "\n",
    "vehicle_images=[]\n",
    "non_vehicle_images=[]\n",
    "\n",
    "for fname in vehicle_image_location:\n",
    "    vehicle=mpimg.imread(fname)\n",
    "    vehicle_images.append(vehicle)\n",
    "\n",
    "for fname in non_vehicle_image_location:\n",
    "    non_vehicle=mpimg.imread(fname)\n",
    "    non_vehicle_images.append(non_vehicle)\n",
    "    \n",
    "print('Number of images in vehicle dataset:',len(vehicle_images))\n",
    "print()\n",
    "print('Number of images in Non-vehicle dataset:',len(non_vehicle_images))"
   ]
  },
  {
   "cell_type": "markdown",
   "metadata": {},
   "source": [
    "Color Histogram Features\n",
    "==="
   ]
  },
  {
   "cell_type": "code",
   "execution_count": 3,
   "metadata": {},
   "outputs": [],
   "source": [
    "def color_hist(img,nbins=32,bin_range=(0,256)):\n",
    "    channel_1_hist=np.histogram(img[:,:,0],nbins,bin_range)\n",
    "    channel_2_hist=np.histogram(img[:,:,1],nbins,bin_range)\n",
    "    channel_3_hist=np.histogram(img[:,:,2],nbins,bin_range)\n",
    "    \n",
    "    #bin_edges=r_hist[1]\n",
    "    #bin_centers=(bin_edges[1:]+bin_edges[0:len(bin_edges)-1])/2\n",
    "    \n",
    "    hist_features=np.concatenate((channel_1_hist[0],channel_2_hist[0],channel_3_hist[0]))\n",
    "    return hist_features\n",
    "\n",
    "\n"
   ]
  },
  {
   "cell_type": "markdown",
   "metadata": {},
   "source": [
    "Binary Spatial Features\n",
    "==="
   ]
  },
  {
   "cell_type": "code",
   "execution_count": 4,
   "metadata": {
    "scrolled": false
   },
   "outputs": [
    {
     "data": {
      "text/plain": [
       "\"\\ncolor_spaces=['RGB','HSV','LUV','HLS','YUV','YCrCb']\\nsizes=[(8,8),(16,16),(32,32)]\\n\\nfeature=[]\\nidx=0\\nfig,axs=plt.subplots(6,3,figsize=(30,30))\\nax=axs.ravel() \\nfor i in range(len(color_spaces)):\\n    for j in range(len(sizes)):\\n        binary_features=bin_spatial(rgb_image,color_space=color_spaces[i],size=sizes[j])\\n        \\n        \\n        ax[idx].plot(binary_features)\\n        ax[idx].set_title(str(color_spaces[i])+' '+str(sizes[j]),fontsize=20)\\n        idx=idx+1\\n\""
      ]
     },
     "execution_count": 4,
     "metadata": {},
     "output_type": "execute_result"
    }
   ],
   "source": [
    "def bin_spatial(img,size=(32,32)):\n",
    "    \n",
    "    binary_features=cv2.resize(img,size).ravel()\n",
    "    \n",
    "    return binary_features\n",
    "\n",
    "\"\"\"\n",
    "color_spaces=['RGB','HSV','LUV','HLS','YUV','YCrCb']\n",
    "sizes=[(8,8),(16,16),(32,32)]\n",
    "\n",
    "feature=[]\n",
    "idx=0\n",
    "fig,axs=plt.subplots(6,3,figsize=(30,30))\n",
    "ax=axs.ravel() \n",
    "for i in range(len(color_spaces)):\n",
    "    for j in range(len(sizes)):\n",
    "        binary_features=bin_spatial(rgb_image,color_space=color_spaces[i],size=sizes[j])\n",
    "        \n",
    "        \n",
    "        ax[idx].plot(binary_features)\n",
    "        ax[idx].set_title(str(color_spaces[i])+' '+str(sizes[j]),fontsize=20)\n",
    "        idx=idx+1\n",
    "\"\"\"     \n",
    "\n",
    "    "
   ]
  },
  {
   "cell_type": "markdown",
   "metadata": {},
   "source": [
    "HOG Features \n",
    "==="
   ]
  },
  {
   "cell_type": "code",
   "execution_count": 5,
   "metadata": {},
   "outputs": [],
   "source": [
    "def get_hog_features(img, orient, pix_per_cell, cell_per_block,vis=False, feature_vec=True):\n",
    "    # Call with two outputs if vis==True\n",
    "    if vis == True:\n",
    "        features, hog_image = hog(img, orientations=orient, pixels_per_cell=(pix_per_cell, pix_per_cell),\n",
    "                                  cells_per_block=(cell_per_block, cell_per_block), block_norm= 'L2-Hys',\n",
    "                                  transform_sqrt=True, \n",
    "                                  visualise=vis, feature_vector=feature_vec)\n",
    "        return features, hog_image\n",
    "    # Otherwise call with one output\n",
    "    else:      \n",
    "        features = hog(img, orientations=orient, pixels_per_cell=(pix_per_cell, pix_per_cell),\n",
    "                       cells_per_block=(cell_per_block, cell_per_block), block_norm= 'L2-Hys',\n",
    "                       transform_sqrt=True, \n",
    "                       visualise=vis, feature_vector=feature_vec)\n",
    "        return features"
   ]
  },
  {
   "cell_type": "code",
   "execution_count": 6,
   "metadata": {},
   "outputs": [],
   "source": [
    "features=[]\n",
    "def extract_features(images,color_space='RGB',size=(32,32),nbins=32,bin_range=(0,256)):\n",
    "    for file in images:\n",
    "        #image=mpimg.imread(file)\n",
    "        image=file\n",
    "        if color_space != 'RGB':\n",
    "            if color_space == 'HSV':\n",
    "                feature_img=cv2.cvtColor(image,cv2.COLOR_RGB2HSV)\n",
    "            elif color_space == 'LUV':\n",
    "                feature_img=cv2.cvtColor(image,cv2.COLOR_RGB2LUV)\n",
    "            elif color_space == 'HLS':\n",
    "                feature_img=cv2.cvtColor(image,cv2.COLOR_RGB2HLS)\n",
    "            elif color_space== 'YUV':\n",
    "                feature_img=cv2.cvtColor(image,cv2.COLOR_RGB2YUV)\n",
    "            elif color_space=='YCrCb':\n",
    "                feature_img=cv2.cvtColor(image,cv2.COLOR_RGB2YCrCb)\n",
    "        else:\n",
    "            feature_img=np.copy(image)\n",
    "        binary_features=bin_spatial(feature_img,size)\n",
    "        hist_features=color_hist(feature_img,nbins,bin_range)\n",
    "        features.append(np.concatenate((binary_features,hist_features)))\n",
    "    return features\n",
    "    "
   ]
  },
  {
   "cell_type": "code",
   "execution_count": 7,
   "metadata": {
    "scrolled": false
   },
   "outputs": [],
   "source": [
    "vehicle_features=extract_features(vehicle_images)\n",
    "non_vehicle_features=extract_features(non_vehicle_images) \n"
   ]
  },
  {
   "cell_type": "code",
   "execution_count": 8,
   "metadata": {},
   "outputs": [
    {
     "ename": "TypeError",
     "evalue": "Object does not appear to be a 8-bit string path or a Python file-like object",
     "output_type": "error",
     "traceback": [
      "\u001b[0;31m---------------------------------------------------------------------------\u001b[0m",
      "\u001b[0;31mTypeError\u001b[0m                                 Traceback (most recent call last)",
      "\u001b[0;32m<ipython-input-8-27b68800b124>\u001b[0m in \u001b[0;36m<module>\u001b[0;34m()\u001b[0m\n\u001b[1;32m      8\u001b[0m \u001b[0mfig\u001b[0m \u001b[0;34m=\u001b[0m \u001b[0mplt\u001b[0m\u001b[0;34m.\u001b[0m\u001b[0mfigure\u001b[0m\u001b[0;34m(\u001b[0m\u001b[0mfigsize\u001b[0m\u001b[0;34m=\u001b[0m\u001b[0;34m(\u001b[0m\u001b[0;36m12\u001b[0m\u001b[0;34m,\u001b[0m\u001b[0;36m4\u001b[0m\u001b[0;34m)\u001b[0m\u001b[0;34m)\u001b[0m\u001b[0;34m\u001b[0m\u001b[0m\n\u001b[1;32m      9\u001b[0m \u001b[0mplt\u001b[0m\u001b[0;34m.\u001b[0m\u001b[0msubplot\u001b[0m\u001b[0;34m(\u001b[0m\u001b[0;36m131\u001b[0m\u001b[0;34m)\u001b[0m\u001b[0;34m\u001b[0m\u001b[0m\n\u001b[0;32m---> 10\u001b[0;31m \u001b[0mplt\u001b[0m\u001b[0;34m.\u001b[0m\u001b[0mimshow\u001b[0m\u001b[0;34m(\u001b[0m\u001b[0mmpimg\u001b[0m\u001b[0;34m.\u001b[0m\u001b[0mimread\u001b[0m\u001b[0;34m(\u001b[0m\u001b[0mvehicle_images\u001b[0m\u001b[0;34m[\u001b[0m\u001b[0mcar_ind\u001b[0m\u001b[0;34m]\u001b[0m\u001b[0;34m)\u001b[0m\u001b[0;34m)\u001b[0m\u001b[0;34m\u001b[0m\u001b[0m\n\u001b[0m\u001b[1;32m     11\u001b[0m \u001b[0mplt\u001b[0m\u001b[0;34m.\u001b[0m\u001b[0mtitle\u001b[0m\u001b[0;34m(\u001b[0m\u001b[0;34m'Original Image'\u001b[0m\u001b[0;34m)\u001b[0m\u001b[0;34m\u001b[0m\u001b[0m\n\u001b[1;32m     12\u001b[0m \u001b[0mplt\u001b[0m\u001b[0;34m.\u001b[0m\u001b[0msubplot\u001b[0m\u001b[0;34m(\u001b[0m\u001b[0;36m132\u001b[0m\u001b[0;34m)\u001b[0m\u001b[0;34m\u001b[0m\u001b[0m\n",
      "\u001b[0;32m/opt/conda/lib/python3.6/site-packages/matplotlib/image.py\u001b[0m in \u001b[0;36mimread\u001b[0;34m(fname, format)\u001b[0m\n\u001b[1;32m   1300\u001b[0m                 \u001b[0;32mreturn\u001b[0m \u001b[0mhandler\u001b[0m\u001b[0;34m(\u001b[0m\u001b[0mfd\u001b[0m\u001b[0;34m)\u001b[0m\u001b[0;34m\u001b[0m\u001b[0m\n\u001b[1;32m   1301\u001b[0m     \u001b[0;32melse\u001b[0m\u001b[0;34m:\u001b[0m\u001b[0;34m\u001b[0m\u001b[0m\n\u001b[0;32m-> 1302\u001b[0;31m         \u001b[0;32mreturn\u001b[0m \u001b[0mhandler\u001b[0m\u001b[0;34m(\u001b[0m\u001b[0mfname\u001b[0m\u001b[0;34m)\u001b[0m\u001b[0;34m\u001b[0m\u001b[0m\n\u001b[0m\u001b[1;32m   1303\u001b[0m \u001b[0;34m\u001b[0m\u001b[0m\n\u001b[1;32m   1304\u001b[0m \u001b[0;34m\u001b[0m\u001b[0m\n",
      "\u001b[0;31mTypeError\u001b[0m: Object does not appear to be a 8-bit string path or a Python file-like object"
     ]
    },
    {
     "data": {
      "image/png": "[encoded data removed]",
      "text/plain": [
       "<matplotlib.figure.Figure at 0x7fececd2a4a8>"
      ]
     },
     "metadata": {},
     "output_type": "display_data"
    }
   ],
   "source": [
    "X = np.vstack((vehicle_features,non_vehicle_features)).astype(np.float64)                        \n",
    "# Fit a per-column scaler\n",
    "X_scaler = StandardScaler().fit(X)\n",
    "# Apply the scaler to X\n",
    "scaled_X = X_scaler.transform(X)\n",
    "car_ind=random.randint(0,len(vehicle_images))\n"
   ]
  },
  {
   "cell_type": "code",
   "execution_count": 10,
   "metadata": {},
   "outputs": [
    {
     "data": {
      "image/png": "[encoded data removed]",
      "text/plain": [
       "<matplotlib.figure.Figure at 0x7fec77cf0eb8>"
      ]
     },
     "metadata": {},
     "output_type": "display_data"
    }
   ],
   "source": [
    "# Plot an example of raw and scaled features\n",
    "fig = plt.figure(figsize=(12,4))\n",
    "plt.subplot(131)\n",
    "plt.imshow(vehicle_images[car_ind])\n",
    "plt.title('Original Image')\n",
    "plt.subplot(132)\n",
    "plt.plot(X[car_ind])\n",
    "plt.title('Raw Features')\n",
    "plt.subplot(133)\n",
    "plt.plot(scaled_X[car_ind])\n",
    "plt.title('Normalized Features')\n",
    "fig.tight_layout()"
   ]
  },
  {
   "cell_type": "code",
   "execution_count": 15,
   "metadata": {},
   "outputs": [
    {
     "name": "stdout",
     "output_type": "stream",
     "text": [
      "Feature vector length: 3168\n",
      "478.98 Seconds to train SVC...\n",
      "Test Accuracy of SVC =  0.4558\n",
      "My SVC predicts:  [ 0.  1.  1.  1.  0.  0.  0.  1.  0.  0.]\n",
      "For these 10 labels:  [ 0.  0.  0.  0.  1.  0.  1.  0.  0.  0.]\n",
      "0.01142 Seconds to predict 10 labels with SVC\n"
     ]
    }
   ],
   "source": [
    "# Define the labels vector\n",
    "y = np.hstack((np.ones(len(vehicle_features)), np.zeros(len(non_vehicle_features))))\n",
    "\n",
    "# Split up data into randomized training and test sets\n",
    "rand_state = np.random.randint(0, 100)\n",
    "X_train, X_test, y_train, y_test = train_test_split(\n",
    "    X, y, test_size=0.2, random_state=rand_state)\n",
    "    \n",
    "# Fit a per-column scaler only on the training data\n",
    "X_scaler = StandardScaler().fit(X_train)\n",
    "# Apply the scaler to X_train and X_test\n",
    "X_train = X_scaler.transform(X_train)\n",
    "X_test = X_scaler.transform(X_test)\n",
    "\n",
    "#print('Using spatial binning of:',spatial,\n",
    "#'and', histbin,'histogram bins')\n",
    "print('Feature vector length:', len(X_train[0]))\n",
    "# Use a linear SVC \n",
    "svc = LinearSVC()\n",
    "# Check the training time for the SVC\n",
    "t=time.time()\n",
    "svc.fit(X_train, y_train)\n",
    "t2 = time.time()\n",
    "print(round(t2-t, 2), 'Seconds to train SVC...')\n",
    "# Check the score of the SVC\n",
    "print('Test Accuracy of SVC = ', round(svc.score(X_test, y_test), 4))\n",
    "# Check the prediction time for a single sample\n",
    "t=time.time()\n",
    "n_predict = 10\n",
    "print('My SVC predicts: ', svc.predict(X_test[0:n_predict]))\n",
    "print('For these',n_predict, 'labels: ', y_test[0:n_predict])\n",
    "t2 = time.time()\n",
    "print(round(t2-t, 5), 'Seconds to predict', n_predict,'labels with SVC')"
   ]
  },
  {
   "cell_type": "code",
   "execution_count": null,
   "metadata": {},
   "outputs": [],
   "source": []
  }
 ],
 "metadata": {
  "kernelspec": {
   "display_name": "Python 3",
   "language": "python",
   "name": "python3"
  },
  "language_info": {
   "codemirror_mode": {
    "name": "ipython",
    "version": 3
   },
   "file_extension": ".py",
   "mimetype": "text/x-python",
   "name": "python",
   "nbconvert_exporter": "python",
   "pygments_lexer": "ipython3",
   "version": "3.6.3"
  }
 },
 "nbformat": 4,
 "nbformat_minor": 2
}
