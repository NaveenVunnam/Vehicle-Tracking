{
 "cells": [
  {
   "cell_type": "code",
   "execution_count": 1,
   "metadata": {},
   "outputs": [],
   "source": [
    "import numpy as np\n",
    "import matplotlib.pyplot as plt\n",
    "import matplotlib.image as mpimg\n",
    "import cv2\n",
    "import glob"
   ]
  },
  {
   "cell_type": "code",
   "execution_count": 2,
   "metadata": {},
   "outputs": [
    {
     "name": "stdout",
     "output_type": "stream",
     "text": [
      "Number of images in vehicle dataset: 8792\n",
      "\n",
      "Number of images in Non-vehicle dataset: 8968\n"
     ]
    }
   ],
   "source": [
    "vehicle_image_location=glob.glob('/data/vehicles/*/*.png')\n",
    "non_vehicle_image_location=glob.glob('/data/non-vehicles/*/*.png')\n",
    "\n",
    "vehicle_images=[]\n",
    "non_vehicle_images=[]\n",
    "\n",
    "for fname in vehicle_image_location:\n",
    "    vehicle=mpimg.imread(fname)\n",
    "    vehicle_images.append(vehicle)\n",
    "\n",
    "for fname in non_vehicle_image_location:\n",
    "    non_vehicle=mpimg.imread(fname)\n",
    "    non_vehicle_images.append(non_vehicle)\n",
    "    \n",
    "print('Number of images in vehicle dataset:',len(vehicle_images))\n",
    "print()\n",
    "print('Number of images in Non-vehicle dataset:',len(non_vehicle_images))"
   ]
  },
  {
   "cell_type": "code",
   "execution_count": null,
   "metadata": {},
   "outputs": [],
   "source": []
  }
 ],
 "metadata": {
  "kernelspec": {
   "display_name": "Python 3",
   "language": "python",
   "name": "python3"
  },
  "language_info": {
   "codemirror_mode": {
    "name": "ipython",
    "version": 3
   },
   "file_extension": ".py",
   "mimetype": "text/x-python",
   "name": "python",
   "nbconvert_exporter": "python",
   "pygments_lexer": "ipython3",
   "version": "3.6.3"
  }
 },
 "nbformat": 4,
 "nbformat_minor": 2
}
